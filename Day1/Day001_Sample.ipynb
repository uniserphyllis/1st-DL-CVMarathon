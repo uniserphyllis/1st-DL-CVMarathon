{
 "cells": [
  {
   "cell_type": "markdown",
   "metadata": {},
   "source": [
    "# 資料來源與檔案存取\n",
    "\n",
    "* 資料來源與取得\n",
    "* 開放資料\n",
    "* 資料儲存格式\n",
    "* Python 存取檔案"
   ]
  },
  {
   "cell_type": "markdown",
   "metadata": {},
   "source": [
    "## 利用 Python 下載檔案"
   ]
  },
  {
   "cell_type": "code",
   "execution_count": null,
   "metadata": {},
   "outputs": [
    {
     "output_type": "error",
     "ename": "Error",
     "evalue": "Jupyter cannot be started. Error attempting to locate jupyter: Data Science libraries notebook and jupyter are not installed.",
     "traceback": [
      "Error: Jupyter cannot be started. Error attempting to locate jupyter: Data Science libraries notebook and jupyter are not installed.",
      "at A.startServer (c:\\Users\\Windows\\.vscode\\extensions\\ms-python.python-2020.2.63072\\out\\client\\extension.js:1:781100)",
      "at async A.ensureServerAndNotebookImpl (c:\\Users\\Windows\\.vscode\\extensions\\ms-python.python-2020.2.63072\\out\\client\\extension.js:1:780555)"
     ]
    }
   ],
   "source": [
    "from urllib.request import urlretrieve\n\nurlretrieve (\"https://www.w3.org/TR/PNG/iso_8859-1.txt\", \"./1.txt\")\nurlretrieve (\"https://www.w3.org/TR/PNG/iso_8859-1.txt\", \"./data/2.txt\")\n"
   ]
  },
  {
   "cell_type": "code",
   "execution_count": null,
   "metadata": {},
   "outputs": [
    {
     "output_type": "error",
     "ename": "Error",
     "evalue": "Jupyter cannot be started. Error attempting to locate jupyter: Data Science libraries notebook and jupyter are not installed.",
     "traceback": [
      "Error: Jupyter cannot be started. Error attempting to locate jupyter: Data Science libraries notebook and jupyter are not installed.",
      "at A.startServer (c:\\Users\\Windows\\.vscode\\extensions\\ms-python.python-2020.2.63072\\out\\client\\extension.js:1:781100)",
      "at async A.ensureServerAndNotebookImpl (c:\\Users\\Windows\\.vscode\\extensions\\ms-python.python-2020.2.63072\\out\\client\\extension.js:1:780555)"
     ]
    }
   ],
   "source": [
    "import os, sys\n\n# 打開文件（預設位置會是跟 .ipynb 程式相同的目錄）\ndirs = os.listdir( './' )\n\n# 顯示所有文件\nfor file in dirs:\n    print(file)"
   ]
  },
  {
   "cell_type": "markdown",
   "metadata": {},
   "source": [
    "## 利用 Python 存取檔案"
   ]
  },
  {
   "cell_type": "code",
   "execution_count": null,
   "metadata": {},
   "outputs": [
    {
     "output_type": "error",
     "ename": "Error",
     "evalue": "Jupyter cannot be started. Error attempting to locate jupyter: Data Science libraries notebook and jupyter are not installed.",
     "traceback": [
      "Error: Jupyter cannot be started. Error attempting to locate jupyter: Data Science libraries notebook and jupyter are not installed.",
      "at A.startServer (c:\\Users\\Windows\\.vscode\\extensions\\ms-python.python-2020.2.63072\\out\\client\\extension.js:1:781100)",
      "at async A.ensureServerAndNotebookImpl (c:\\Users\\Windows\\.vscode\\extensions\\ms-python.python-2020.2.63072\\out\\client\\extension.js:1:780555)"
     ]
    }
   ],
   "source": [
    "fh = open(\"example.txt\", \"w\")\nf = fh.write(\"To write or not to write\\nthat is the question!\\n\")\nfh.close()\n\nprint(f)"
   ]
  },
  {
   "cell_type": "code",
   "execution_count": null,
   "metadata": {},
   "outputs": [
    {
     "output_type": "error",
     "ename": "Error",
     "evalue": "Jupyter cannot be started. Error attempting to locate jupyter: Data Science libraries notebook and jupyter are not installed.",
     "traceback": [
      "Error: Jupyter cannot be started. Error attempting to locate jupyter: Data Science libraries notebook and jupyter are not installed.",
      "at A.startServer (c:\\Users\\Windows\\.vscode\\extensions\\ms-python.python-2020.2.63072\\out\\client\\extension.js:1:781100)",
      "at async A.ensureServerAndNotebookImpl (c:\\Users\\Windows\\.vscode\\extensions\\ms-python.python-2020.2.63072\\out\\client\\extension.js:1:780555)"
     ]
    }
   ],
   "source": [
    "fh = open(\"example.txt\", \"r\")\nf = fh.read()\nfh.close()\n\nprint(f)"
   ]
  },
  {
   "cell_type": "code",
   "execution_count": null,
   "metadata": {},
   "outputs": [
    {
     "output_type": "error",
     "ename": "Error",
     "evalue": "Jupyter cannot be started. Error attempting to locate jupyter: Data Science libraries notebook and jupyter are not installed.",
     "traceback": [
      "Error: Jupyter cannot be started. Error attempting to locate jupyter: Data Science libraries notebook and jupyter are not installed.",
      "at A.startServer (c:\\Users\\Windows\\.vscode\\extensions\\ms-python.python-2020.2.63072\\out\\client\\extension.js:1:781100)",
      "at async A.ensureServerAndNotebookImpl (c:\\Users\\Windows\\.vscode\\extensions\\ms-python.python-2020.2.63072\\out\\client\\extension.js:1:780555)"
     ]
    }
   ],
   "source": [
    "with open(\"example-with.txt\", \"w\") as fh:\n    f = fh.write(\"To write or not to write\\nthat is the question!\\n\")\n    print(f)\n    \nwith open(\"example-with.txt\", \"r\") as fh:\n    f = fh.read()\n    print(f)"
   ]
  },
  {
   "cell_type": "code",
   "execution_count": 7,
   "metadata": {},
   "outputs": [
    {
     "name": "stdout",
     "output_type": "stream",
     "text": [
      "example-with.txt\n",
      "example1.txt\n",
      "sample.ipynb\n",
      "example2.csv\n",
      "example.txt\n",
      "1.txt\n",
      "homework.solution.ipynb\n",
      ".ipynb_checkpoints\n",
      "homework.ipynb\n",
      "data\n"
     ]
    }
   ],
   "source": [
    "import os, sys\n",
    "\n",
    "# 打開文件\n",
    "dirs = os.listdir( './' )\n",
    "\n",
    "# 顯示所有文件\n",
    "for file in dirs:\n",
    "    print(file)"
   ]
  },
  {
   "cell_type": "markdown",
   "metadata": {},
   "source": [
    "## 編碼判讀"
   ]
  },
  {
   "cell_type": "code",
   "execution_count": 8,
   "metadata": {},
   "outputs": [
    {
     "name": "stdout",
     "output_type": "stream",
     "text": [
      "{'encoding': 'ascii', 'confidence': 1.0, 'language': ''}\n"
     ]
    }
   ],
   "source": [
    "import chardet\n",
    " \n",
    "f = open('example1.txt', 'rb')\n",
    "data = f.read()\n",
    "print(chardet.detect(data))"
   ]
  },
  {
   "cell_type": "code",
   "execution_count": 9,
   "metadata": {},
   "outputs": [
    {
     "name": "stdout",
     "output_type": "stream",
     "text": [
      "{'encoding': 'ascii', 'confidence': 1.0, 'language': ''}\n"
     ]
    }
   ],
   "source": [
    "import chardet\n",
    " \n",
    "f = open('example2.csv', 'rb')\n",
    "data = f.read()\n",
    "print(chardet.detect(data))"
   ]
  },
  {
   "cell_type": "markdown",
   "metadata": {},
   "source": [
    "## 作業目標\n",
    "\n",
    "* 1.（簡答題）檔案、API、爬蟲三種取得資料方式有什麼不同？\n",
    "* 2.（實作）完成一個程式，需滿足下列需求：\n",
    "    * 下載指定檔案到 Data 資料夾，存成檔名 Homework.txt\n",
    "    * 檢查 Data 資料夾是否有 Homework.txt 檔名之檔案\n",
    "    * 將「Hello World」字串覆寫到 Homework.txt 檔案\n",
    "    * 檢查 Homework.txt 檔案字數是否符合 Hello World 字數\n"
   ]
  },
  {
   "cell_type": "code",
   "execution_count": null,
   "metadata": {},
   "outputs": [],
   "source": []
  },
  {
   "cell_type": "code",
   "execution_count": null,
   "metadata": {},
   "outputs": [],
   "source": []
  }
 ],
 "metadata": {
  "kernelspec": {
   "display_name": "Python 3",
   "language": "python",
   "name": "python3"
  },
  "language_info": {
   "codemirror_mode": {
    "name": "ipython",
    "version": 3
   },
   "file_extension": ".py",
   "mimetype": "text/x-python",
   "name": "python",
   "nbconvert_exporter": "python",
   "pygments_lexer": "ipython3",
   "version": "3.6.5"
  }
 },
 "nbformat": 4,
 "nbformat_minor": 2
}